{
  "nbformat": 4,
  "nbformat_minor": 0,
  "metadata": {
    "colab": {
      "provenance": [],
      "authorship_tag": "ABX9TyNhfHpX8LUi+zAunYW8I6eV",
      "include_colab_link": true
    },
    "kernelspec": {
      "name": "python3",
      "display_name": "Python 3"
    },
    "language_info": {
      "name": "python"
    }
  },
  "cells": [
    {
      "cell_type": "markdown",
      "metadata": {
        "id": "view-in-github",
        "colab_type": "text"
      },
      "source": [
        "<a href=\"https://colab.research.google.com/github/AlaseeriRawan/Rosalind/blob/main/2_Transcribing_DNA_into_RNA.ipynb\" target=\"_parent\"><img src=\"https://colab.research.google.com/assets/colab-badge.svg\" alt=\"Open In Colab\"/></a>"
      ]
    },
    {
      "cell_type": "code",
      "source": [
        "!pip install ipython-autotime\n",
        "%load_ext autotime"
      ],
      "metadata": {
        "colab": {
          "base_uri": "https://localhost:8080/"
        },
        "id": "TRaN9WIUNYEl",
        "outputId": "492a91f9-5a25-45a2-fdd9-435429219ea6",
        "collapsed": true
      },
      "execution_count": null,
      "outputs": [
        {
          "output_type": "stream",
          "name": "stdout",
          "text": [
            "Collecting ipython-autotime\n",
            "  Downloading ipython_autotime-0.3.2-py2.py3-none-any.whl (7.0 kB)\n",
            "Requirement already satisfied: ipython in /usr/local/lib/python3.10/dist-packages (from ipython-autotime) (7.34.0)\n",
            "Requirement already satisfied: setuptools>=18.5 in /usr/local/lib/python3.10/dist-packages (from ipython->ipython-autotime) (67.7.2)\n",
            "Collecting jedi>=0.16 (from ipython->ipython-autotime)\n",
            "  Downloading jedi-0.19.1-py2.py3-none-any.whl (1.6 MB)\n",
            "\u001b[2K     \u001b[90m━━━━━━━━━━━━━━━━━━━━━━━━━━━━━━━━━━━━━━━━\u001b[0m \u001b[32m1.6/1.6 MB\u001b[0m \u001b[31m6.9 MB/s\u001b[0m eta \u001b[36m0:00:00\u001b[0m\n",
            "\u001b[?25hRequirement already satisfied: decorator in /usr/local/lib/python3.10/dist-packages (from ipython->ipython-autotime) (4.4.2)\n",
            "Requirement already satisfied: pickleshare in /usr/local/lib/python3.10/dist-packages (from ipython->ipython-autotime) (0.7.5)\n",
            "Requirement already satisfied: traitlets>=4.2 in /usr/local/lib/python3.10/dist-packages (from ipython->ipython-autotime) (5.7.1)\n",
            "Requirement already satisfied: prompt-toolkit!=3.0.0,!=3.0.1,<3.1.0,>=2.0.0 in /usr/local/lib/python3.10/dist-packages (from ipython->ipython-autotime) (3.0.43)\n",
            "Requirement already satisfied: pygments in /usr/local/lib/python3.10/dist-packages (from ipython->ipython-autotime) (2.16.1)\n",
            "Requirement already satisfied: backcall in /usr/local/lib/python3.10/dist-packages (from ipython->ipython-autotime) (0.2.0)\n",
            "Requirement already satisfied: matplotlib-inline in /usr/local/lib/python3.10/dist-packages (from ipython->ipython-autotime) (0.1.7)\n",
            "Requirement already satisfied: pexpect>4.3 in /usr/local/lib/python3.10/dist-packages (from ipython->ipython-autotime) (4.9.0)\n",
            "Requirement already satisfied: parso<0.9.0,>=0.8.3 in /usr/local/lib/python3.10/dist-packages (from jedi>=0.16->ipython->ipython-autotime) (0.8.4)\n",
            "Requirement already satisfied: ptyprocess>=0.5 in /usr/local/lib/python3.10/dist-packages (from pexpect>4.3->ipython->ipython-autotime) (0.7.0)\n",
            "Requirement already satisfied: wcwidth in /usr/local/lib/python3.10/dist-packages (from prompt-toolkit!=3.0.0,!=3.0.1,<3.1.0,>=2.0.0->ipython->ipython-autotime) (0.2.13)\n",
            "Installing collected packages: jedi, ipython-autotime\n",
            "Successfully installed ipython-autotime-0.3.2 jedi-0.19.1\n",
            "time: 379 µs (started: 2024-05-06 09:22:13 +00:00)\n"
          ]
        }
      ]
    },
    {
      "cell_type": "markdown",
      "source": [
        "1. peusudo code and first codes"
      ],
      "metadata": {
        "id": "hmMVC8yhMgZO"
      }
    },
    {
      "cell_type": "code",
      "execution_count": null,
      "metadata": {
        "id": "iog2dsjeK_FF"
      },
      "outputs": [],
      "source": [
        "# pesuedo code\n",
        "# DNA = [] (made of AGCT)\n",
        "# RNA = in DNA, if T return U\n",
        "# Print RNA"
      ]
    },
    {
      "cell_type": "code",
      "source": [
        "DNA = 'GATGGAACTTGACTACGTAAATT'"
      ],
      "metadata": {
        "colab": {
          "base_uri": "https://localhost:8080/"
        },
        "id": "DIv1D_fALiM3",
        "outputId": "5ef71fca-0769-4a7f-c93d-6ea83bf1b7d8"
      },
      "execution_count": null,
      "outputs": [
        {
          "output_type": "stream",
          "name": "stdout",
          "text": [
            "time: 430 µs (started: 2024-05-06 09:22:21 +00:00)\n"
          ]
        }
      ]
    },
    {
      "cell_type": "code",
      "source": [
        "RNA = DNA.replace('T','U')"
      ],
      "metadata": {
        "colab": {
          "base_uri": "https://localhost:8080/"
        },
        "id": "5j_j7C9-LoRw",
        "outputId": "43472fe3-6498-4695-a6e9-dcb96daaf4e0"
      },
      "execution_count": null,
      "outputs": [
        {
          "output_type": "stream",
          "name": "stdout",
          "text": [
            "time: 573 µs (started: 2024-05-06 09:22:26 +00:00)\n"
          ]
        }
      ]
    },
    {
      "cell_type": "code",
      "source": [
        "print(RNA)"
      ],
      "metadata": {
        "colab": {
          "base_uri": "https://localhost:8080/"
        },
        "id": "6VpAUm70MM6r",
        "outputId": "704ab335-4ce7-41aa-aa9f-f9cc54fff3fa"
      },
      "execution_count": null,
      "outputs": [
        {
          "output_type": "stream",
          "name": "stdout",
          "text": [
            "GAUGGAACUUGACUACGUAAAUU\n",
            "time: 647 µs (started: 2024-05-06 09:22:31 +00:00)\n"
          ]
        }
      ]
    },
    {
      "cell_type": "markdown",
      "source": [
        "2. it works so now i will try to make it more efficant"
      ],
      "metadata": {
        "id": "kz2h9zEfMnPy"
      }
    },
    {
      "cell_type": "code",
      "source": [
        "DNA = input(\"Enter DNA Sequence:\")\n",
        "RNA = DNA.replace(\"T\",\"U\")\n",
        "print(RNA)"
      ],
      "metadata": {
        "colab": {
          "base_uri": "https://localhost:8080/"
        },
        "id": "N8V-Wc4JMla8",
        "outputId": "69646a74-41fb-4383-83a3-556ee5062f86"
      },
      "execution_count": null,
      "outputs": [
        {
          "output_type": "stream",
          "name": "stdout",
          "text": [
            "Enter DNA Sequence:d\n",
            "d\n",
            "time: 3.38 s (started: 2024-05-06 09:26:40 +00:00)\n"
          ]
        }
      ]
    },
    {
      "cell_type": "code",
      "source": [
        "print(input(\"Enter DNA Sequence:\").replace(\"T\",\"U\"))"
      ],
      "metadata": {
        "colab": {
          "base_uri": "https://localhost:8080/"
        },
        "id": "Go_-ZLjpOR77",
        "outputId": "441724c0-9d7b-4599-b21e-08395970b961"
      },
      "execution_count": null,
      "outputs": [
        {
          "output_type": "stream",
          "name": "stdout",
          "text": [
            "Enter DNA Sequence:CGTTCCAGCTGTGAAATTACACCAGGAAGACAGATGGACCGGACCCCGCCCAGAACCCCAATCTTGGTAGAATGTGGGTTGTACCGACATATTACCCTTAAAGGAGGAAAAGAAGCAGCCGCACAATATTGGCTGGTTAGGACTATATTGTATATCATCTTAAGAGGAAGCGTCGAGTATTAGCGGGTCTTCCAACTGGCCCCTGGTAGAGGGTCACAAAAGACTAGTCCCAGAGCATCGTTTTCTTACAAGACGCGTCCCTATGTGCCTATCTGGGAACCCCAACAAACTCCTACGTACCGTGGACTCGCAGGCATGCGGGGTGCCGATTACTCGATCCGCGTACTACAAAGGAGAACGCGCGACGCTAGTTTAGTTTGTGCCCAAGAGGGAACAACTCGAATGACGTCAACAAGTATCCGCAGGGCAAGTAAGGAGGTAGGATGGTTCTGTAGCCACTCTCACCATGAAAGCGCGCCCTGGTTCGTGACAACAAATCTTAACTAGTCTCTAGCAATGCACATAGCATGTCTTCTGTGGAACGCGGAATCCGGCCCCGGACAAGTTGAGGGGCAGTAAATTAAAGGGAATGTCCCTTAGTGCGGGGCCTTGGGAGTTTTCCGGGGCGGCGGTTTTCTACAGACCCCCCTAGTTCTTGAACATAGCGTGAGGGTCCAAGGCCACGAACGTAGCGCTTTAGTGTGTAACGTCCCGATTCTAATTTTAACCTTAATAAGTGTTATACTGGATGCTGTAGTGAAAGCGTGATCGTTCGGACTGATCCATTCAATCACTAAACAAGTGAACCTAACGATAAGACAGGCACGCGTGGTAGACCCCCGACGGAGAAATCCAACAACAAAGTATGAATTCATTTCACTTGCTACCCGAACGGCTCAGAAACTTGAACCATCTCGGGCGGAATTTCAGTCGTTCCGCAACTTCCTACTAAGGCCCCGAACCCAATTTTGCAGTGGT\n",
            "CGUUCCAGCUGUGAAAUUACACCAGGAAGACAGAUGGACCGGACCCCGCCCAGAACCCCAAUCUUGGUAGAAUGUGGGUUGUACCGACAUAUUACCCUUAAAGGAGGAAAAGAAGCAGCCGCACAAUAUUGGCUGGUUAGGACUAUAUUGUAUAUCAUCUUAAGAGGAAGCGUCGAGUAUUAGCGGGUCUUCCAACUGGCCCCUGGUAGAGGGUCACAAAAGACUAGUCCCAGAGCAUCGUUUUCUUACAAGACGCGUCCCUAUGUGCCUAUCUGGGAACCCCAACAAACUCCUACGUACCGUGGACUCGCAGGCAUGCGGGGUGCCGAUUACUCGAUCCGCGUACUACAAAGGAGAACGCGCGACGCUAGUUUAGUUUGUGCCCAAGAGGGAACAACUCGAAUGACGUCAACAAGUAUCCGCAGGGCAAGUAAGGAGGUAGGAUGGUUCUGUAGCCACUCUCACCAUGAAAGCGCGCCCUGGUUCGUGACAACAAAUCUUAACUAGUCUCUAGCAAUGCACAUAGCAUGUCUUCUGUGGAACGCGGAAUCCGGCCCCGGACAAGUUGAGGGGCAGUAAAUUAAAGGGAAUGUCCCUUAGUGCGGGGCCUUGGGAGUUUUCCGGGGCGGCGGUUUUCUACAGACCCCCCUAGUUCUUGAACAUAGCGUGAGGGUCCAAGGCCACGAACGUAGCGCUUUAGUGUGUAACGUCCCGAUUCUAAUUUUAACCUUAAUAAGUGUUAUACUGGAUGCUGUAGUGAAAGCGUGAUCGUUCGGACUGAUCCAUUCAAUCACUAAACAAGUGAACCUAACGAUAAGACAGGCACGCGUGGUAGACCCCCGACGGAGAAAUCCAACAACAAAGUAUGAAUUCAUUUCACUUGCUACCCGAACGGCUCAGAAACUUGAACCAUCUCGGGCGGAAUUUCAGUCGUUCCGCAACUUCCUACUAAGGCCCCGAACCCAAUUUUGCAGUGGU\n",
            "time: 2.75 s (started: 2024-05-06 09:30:46 +00:00)\n"
          ]
        }
      ]
    },
    {
      "cell_type": "markdown",
      "source": [
        "3. solutions (other people)"
      ],
      "metadata": {
        "id": "OKwL7BGAP6fX"
      }
    },
    {
      "cell_type": "code",
      "source": [
        "# use command\n",
        "!tr T U < rosalind_rna.txt"
      ],
      "metadata": {
        "colab": {
          "base_uri": "https://localhost:8080/"
        },
        "id": "okxJeh6wP-PQ",
        "outputId": "49e76253-ae08-49ca-bee3-200efda5fc75"
      },
      "execution_count": null,
      "outputs": [
        {
          "output_type": "stream",
          "name": "stdout",
          "text": [
            "CGUUCCAGCUGUGAAAUUACACCAGGAAGACAGAUGGACCGGACCCCGCCCAGAACCCCAAUCUUGGUAGAAUGUGGGUUGUACCGACAUAUUACCCUUAAAGGAGGAAAAGAAGCAGCCGCACAAUAUUGGCUGGUUAGGACUAUAUUGUAUAUCAUCUUAAGAGGAAGCGUCGAGUAUUAGCGGGUCUUCCAACUGGCCCCUGGUAGAGGGUCACAAAAGACUAGUCCCAGAGCAUCGUUUUCUUACAAGACGCGUCCCUAUGUGCCUAUCUGGGAACCCCAACAAACUCCUACGUACCGUGGACUCGCAGGCAUGCGGGGUGCCGAUUACUCGAUCCGCGUACUACAAAGGAGAACGCGCGACGCUAGUUUAGUUUGUGCCCAAGAGGGAACAACUCGAAUGACGUCAACAAGUAUCCGCAGGGCAAGUAAGGAGGUAGGAUGGUUCUGUAGCCACUCUCACCAUGAAAGCGCGCCCUGGUUCGUGACAACAAAUCUUAACUAGUCUCUAGCAAUGCACAUAGCAUGUCUUCUGUGGAACGCGGAAUCCGGCCCCGGACAAGUUGAGGGGCAGUAAAUUAAAGGGAAUGUCCCUUAGUGCGGGGCCUUGGGAGUUUUCCGGGGCGGCGGUUUUCUACAGACCCCCCUAGUUCUUGAACAUAGCGUGAGGGUCCAAGGCCACGAACGUAGCGCUUUAGUGUGUAACGUCCCGAUUCUAAUUUUAACCUUAAUAAGUGUUAUACUGGAUGCUGUAGUGAAAGCGUGAUCGUUCGGACUGAUCCAUUCAAUCACUAAACAAGUGAACCUAACGAUAAGACAGGCACGCGUGGUAGACCCCCGACGGAGAAAUCCAACAACAAAGUAUGAAUUCAUUUCACUUGCUACCCGAACGGCUCAGAAACUUGAACCAUCUCGGGCGGAAUUUCAGUCGUUCCGCAACUUCCUACUAAGGCCCCGAACCCAAUUUUGCAGUGGU\r\n",
            "time: 109 ms (started: 2024-05-06 09:33:43 +00:00)\n"
          ]
        }
      ]
    },
    {
      "cell_type": "code",
      "source": [
        "# using biopython\n",
        "!pip install biopython\n",
        "from Bio.Seq import Seq\n",
        "file = open(\"rosalind_rna.txt\", \"r\")\n",
        "dna = Seq(file.read())\n",
        "rna = dna.transcribe()\n",
        "print(rna)"
      ],
      "metadata": {
        "colab": {
          "base_uri": "https://localhost:8080/"
        },
        "id": "CLMqPdy6QgEf",
        "outputId": "c79c67d0-fd2d-42ef-f7b2-3fa5ec419162"
      },
      "execution_count": null,
      "outputs": [
        {
          "output_type": "stream",
          "name": "stdout",
          "text": [
            "Requirement already satisfied: biopython in /usr/local/lib/python3.10/dist-packages (1.83)\n",
            "Requirement already satisfied: numpy in /usr/local/lib/python3.10/dist-packages (from biopython) (1.25.2)\n",
            "CGUUCCAGCUGUGAAAUUACACCAGGAAGACAGAUGGACCGGACCCCGCCCAGAACCCCAAUCUUGGUAGAAUGUGGGUUGUACCGACAUAUUACCCUUAAAGGAGGAAAAGAAGCAGCCGCACAAUAUUGGCUGGUUAGGACUAUAUUGUAUAUCAUCUUAAGAGGAAGCGUCGAGUAUUAGCGGGUCUUCCAACUGGCCCCUGGUAGAGGGUCACAAAAGACUAGUCCCAGAGCAUCGUUUUCUUACAAGACGCGUCCCUAUGUGCCUAUCUGGGAACCCCAACAAACUCCUACGUACCGUGGACUCGCAGGCAUGCGGGGUGCCGAUUACUCGAUCCGCGUACUACAAAGGAGAACGCGCGACGCUAGUUUAGUUUGUGCCCAAGAGGGAACAACUCGAAUGACGUCAACAAGUAUCCGCAGGGCAAGUAAGGAGGUAGGAUGGUUCUGUAGCCACUCUCACCAUGAAAGCGCGCCCUGGUUCGUGACAACAAAUCUUAACUAGUCUCUAGCAAUGCACAUAGCAUGUCUUCUGUGGAACGCGGAAUCCGGCCCCGGACAAGUUGAGGGGCAGUAAAUUAAAGGGAAUGUCCCUUAGUGCGGGGCCUUGGGAGUUUUCCGGGGCGGCGGUUUUCUACAGACCCCCCUAGUUCUUGAACAUAGCGUGAGGGUCCAAGGCCACGAACGUAGCGCUUUAGUGUGUAACGUCCCGAUUCUAAUUUUAACCUUAAUAAGUGUUAUACUGGAUGCUGUAGUGAAAGCGUGAUCGUUCGGACUGAUCCAUUCAAUCACUAAACAAGUGAACCUAACGAUAAGACAGGCACGCGUGGUAGACCCCCGACGGAGAAAUCCAACAACAAAGUAUGAAUUCAUUUCACUUGCUACCCGAACGGCUCAGAAACUUGAACCAUCUCGGGCGGAAUUUCAGUCGUUCCGCAACUUCCUACUAAGGCCCCGAACCCAAUUUUGCAGUGGU\n",
            "\n",
            "time: 9.74 s (started: 2024-05-06 09:41:32 +00:00)\n"
          ]
        }
      ]
    }
  ]
}