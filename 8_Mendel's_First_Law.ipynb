{
  "nbformat": 4,
  "nbformat_minor": 0,
  "metadata": {
    "colab": {
      "provenance": [],
      "authorship_tag": "ABX9TyPuY1zGsRKAdmhlJtEf9oix",
      "include_colab_link": true
    },
    "kernelspec": {
      "name": "python3",
      "display_name": "Python 3"
    },
    "language_info": {
      "name": "python"
    }
  },
  "cells": [
    {
      "cell_type": "markdown",
      "metadata": {
        "id": "view-in-github",
        "colab_type": "text"
      },
      "source": [
        "<a href=\"https://colab.research.google.com/github/AlaseeriRawan/Rosalind/blob/main/8_Mendel's_First_Law.ipynb\" target=\"_parent\"><img src=\"https://colab.research.google.com/assets/colab-badge.svg\" alt=\"Open In Colab\"/></a>"
      ]
    },
    {
      "cell_type": "code",
      "source": [
        "# n =\n",
        "# m =\n",
        "# k =\n",
        "# total = n + m + k\n",
        "'''starting '''\n",
        "# nfirst = n/total\n",
        "# mfirst = m/total\n",
        "# kfirst = n/total\n",
        "'''second round n'''\n",
        "# total2 = total -1\n",
        "# nn = (n-1)/total2\n",
        "# nm = m/total2\n",
        "#"
      ],
      "metadata": {
        "id": "v36iaKmsY9sj"
      },
      "execution_count": null,
      "outputs": []
    },
    {
      "cell_type": "code",
      "execution_count": null,
      "metadata": {
        "colab": {
          "base_uri": "https://localhost:8080/"
        },
        "id": "Qg7kmzUfY4yo",
        "outputId": "aa4bf5f2-b04e-454d-955d-c46a9f9a69b0"
      },
      "outputs": [
        {
          "output_type": "stream",
          "name": "stdout",
          "text": [
            "kfirst 0.4027777777777778\n",
            "mfirst 0.3611111111111111\n",
            "nfirst 0.4027777777777778\n",
            "total 72\n",
            "total2 71\n",
            "Np 0.17018779342723006\n",
            "Mp 0.255575117370892\n",
            "Kp 0.4027777777777778\n",
            "A 0.8285406885758999\n"
          ]
        }
      ],
      "source": [
        "# 17 26 29\n",
        "# given : Three positive integers k m and n representing a population containing k+m+n organisms: k individuals are\n",
        "# homozygous dominant for a factor, m are heterozygous, and m are homozygous recessive\n",
        "# switch n + k\n",
        "k = 17\n",
        "m = 26\n",
        "n = 29\n",
        "total = n + m + k\n",
        "'''starting '''\n",
        "kfirst = n/total\n",
        "mfirst = m/total\n",
        "nfirst = n/total\n",
        "'''second round'''\n",
        "total2 = total -1\n",
        "kk = (k-1)/total2\n",
        "km = m/total2\n",
        "kn = n/total2\n",
        "\n",
        "mk = k/total2\n",
        "mm = ((m-1)/total2)*(3/4)\n",
        "mn = (n/total2)*(1/2)\n",
        "\n",
        "nk = k/total2\n",
        "nm = (m/total2)*(1/2)\n",
        "nn = ((n-1)/total2)*0\n",
        "\n",
        "'''events'''\n",
        "Kp = (kfirst*kk)+(kfirst*km)+(kfirst*kn)\n",
        "Mp = (mfirst*mk)+(mfirst*mm)+(mfirst*mn)\n",
        "Np = (kfirst*nk)+(kfirst*nm)\n",
        "\n",
        "'''dominant trait'''\n",
        "A = Np + Mp + Kp\n",
        "\n",
        "print('kfirst', kfirst)\n",
        "print('mfirst', mfirst)\n",
        "print('nfirst', nfirst)\n",
        "print('total', total)\n",
        "print('total2', total2)\n",
        "print('Np', Np)\n",
        "print('Mp', Mp)\n",
        "print('Kp', Kp)\n",
        "print(\"A\", A)"
      ]
    },
    {
      "cell_type": "code",
      "source": [
        "# 27 17 29\n",
        "\n",
        "k = 27\n",
        "m = 17\n",
        "n = 29\n",
        "\n",
        "total = k + m + n\n",
        "print('total', total)\n",
        "\n",
        "'''k'''\n",
        "\n",
        "kfirst = k/total\n",
        "\n",
        "total2 = total - 1\n",
        "print('total2', total2)\n",
        "\n",
        "kk = ((k-1)/total2)*kfirst\n",
        "km = (m/total2)*kfirst\n",
        "kn = (n/total2)*kfirst\n",
        "kp = kk + km + kn\n",
        "print('kp', kp)\n",
        "\n",
        "'''m'''\n",
        "\n",
        "mfirst = m/total\n",
        "\n",
        "mk = (k/total2)*mfirst\n",
        "mm = (((m-1)/total2)*(3/4))*mfirst\n",
        "mn = ((n/total2)*(1/2))*mfirst\n",
        "mp = mk+mm+mn\n",
        "print('mp', mp)\n",
        "\n",
        "'''n'''\n",
        "nfirst = n/total\n",
        "\n",
        "nk = (k/total2)*nfirst\n",
        "nm = ((m/total2)*(1/2))*nfirst\n",
        "nn = (((n-1)/total2)*0)*nfirst\n",
        "np = nk+nm+nn\n",
        "\n",
        "p = kp + mp + np\n",
        "print('p', p)"
      ],
      "metadata": {
        "colab": {
          "base_uri": "https://localhost:8080/"
        },
        "id": "MMhCTO8BoZhT",
        "outputId": "c6a7de5c-946c-43ba-addb-427a38eeb05c"
      },
      "execution_count": null,
      "outputs": [
        {
          "output_type": "stream",
          "name": "stdout",
          "text": [
            "total 73\n",
            "total2 72\n",
            "kp 0.36986301369863006\n",
            "mp 0.17304033485540332\n",
            "p 0.7387747336377471\n"
          ]
        }
      ]
    }
  ]
}