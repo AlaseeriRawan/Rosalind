{
  "nbformat": 4,
  "nbformat_minor": 0,
  "metadata": {
    "colab": {
      "provenance": [],
      "authorship_tag": "ABX9TyOaTc4hRqBCfUxCOjml3wE3",
      "include_colab_link": true
    },
    "kernelspec": {
      "name": "python3",
      "display_name": "Python 3"
    },
    "language_info": {
      "name": "python"
    }
  },
  "cells": [
    {
      "cell_type": "markdown",
      "metadata": {
        "id": "view-in-github",
        "colab_type": "text"
      },
      "source": [
        "<a href=\"https://colab.research.google.com/github/AlaseeriRawan/Rosalind/blob/main/1_Counting_DNA_Nucleotides.ipynb\" target=\"_parent\"><img src=\"https://colab.research.google.com/assets/colab-badge.svg\" alt=\"Open In Colab\"/></a>"
      ]
    },
    {
      "cell_type": "code",
      "execution_count": null,
      "metadata": {
        "colab": {
          "base_uri": "https://localhost:8080/"
        },
        "id": "0deDjrWEYvz-",
        "outputId": "283d2c9e-68f3-4837-91a2-596af18e8985"
      },
      "outputs": [
        {
          "output_type": "stream",
          "name": "stdout",
          "text": [
            "Collecting biopython\n",
            "  Downloading biopython-1.83-cp310-cp310-manylinux_2_17_x86_64.manylinux2014_x86_64.whl (3.1 MB)\n",
            "\u001b[2K     \u001b[90m━━━━━━━━━━━━━━━━━━━━━━━━━━━━━━━━━━━━━━━━\u001b[0m \u001b[32m3.1/3.1 MB\u001b[0m \u001b[31m9.2 MB/s\u001b[0m eta \u001b[36m0:00:00\u001b[0m\n",
            "\u001b[?25hRequirement already satisfied: numpy in /usr/local/lib/python3.10/dist-packages (from biopython) (1.25.2)\n",
            "Installing collected packages: biopython\n",
            "Successfully installed biopython-1.83\n"
          ]
        }
      ],
      "source": [
        "# Biopython\n",
        "!pip install biopython"
      ]
    },
    {
      "cell_type": "code",
      "source": [
        "# Import Seq\n",
        "from Bio.Seq import Seq"
      ],
      "metadata": {
        "id": "StDtEYwNZTKK"
      },
      "execution_count": null,
      "outputs": []
    },
    {
      "cell_type": "code",
      "source": [
        "# DNA sequence\n",
        "dna_sequence = Seq(\"CTCACCGTCCTCCCTTTAGCACAACACGTTCCACTTTGATAATGCTCTGACGCACTGCTAATTTGGTGTAGTGGAAGGCTAAGCCGCCAAATCGGTCCGTAAAGCTTTCGGAATGGCTGATTCTCAGTCTGGATGACCTTACACGTAATTAACTGACTGATGGAAGTGTGGTATATGCAGTGTACGTTTGGTCGAACCGACTTAAAGCTTCGCAGAATAGCGCCATGATCGATTACATCATGGGAGGTGCTGCAATGACGTACGGCGCTAGACCCCGCATTACCGGCAGAAACGTATACTGAATGAGATAATTCGCTGCATCCGGCCGCACATTCATCTGTGTGTCCAGCATTAGATCGTGGAGACTATTACGAGCTAGGCAGGAATCAGGTTACACTTGACACCCCCCGCAGTAATGCCAGGGCCGCGTAGACAGTACACCTAAAAGCCGGCCGAAGGCAGGTCGACCAACGCCTTGCTTCGCAGAGGATTGGTGCAATCGTCGTCTGGCTAAGAATGATAGGCGAGAGAATACTCACACGGCTGAACTCAATCCATCTTAATGAGTCACACCCCTATGAGTTGGCAAACCGGGTGTAGTATAACCGTTCGCGCCTGTATCGACATCGCTCTAGCAGTACGGTAAGTTGTGGATCCCTGAGTGACCCAGCTAGCTTCGCGGGCTCACGCGGTATTGATGGGAAGTGCGAATCCGTTTATCAGCTTTCAATTCCCCCGTCGTAGACAGTGCGTGCGGAAGGATGGCCGTAGATACGGACGTAAGCGATGTTGGATCTTTCTGTCCTGCCTTTAACCTGGCGTGCTTCACTTTACCGCGTTGGAGGCACCCACTATCTACGGTTGGAATTCGTCCGC\")"
      ],
      "metadata": {
        "id": "K9EQljHEZTHP"
      },
      "execution_count": null,
      "outputs": []
    },
    {
      "cell_type": "code",
      "source": [
        "# Count\n",
        "a_count = dna_sequence.count(\"A\")\n",
        "c_count = dna_sequence.count(\"C\")\n",
        "g_count = dna_sequence.count(\"G\")\n",
        "t_count = dna_sequence.count(\"T\")"
      ],
      "metadata": {
        "id": "Xfa7UzLlZTFE"
      },
      "execution_count": null,
      "outputs": []
    },
    {
      "cell_type": "code",
      "source": [
        "# Print counts\n",
        "print(f\"{a_count} {c_count} {g_count} {t_count}\")"
      ],
      "metadata": {
        "colab": {
          "base_uri": "https://localhost:8080/"
        },
        "id": "-xCG0gKgZTCT",
        "outputId": "cd4b08e0-5793-4a8f-a287-e6cbc4705e1b"
      },
      "execution_count": null,
      "outputs": [
        {
          "output_type": "stream",
          "name": "stdout",
          "text": [
            "209 224 228 215\n"
          ]
        }
      ]
    }
  ]
}