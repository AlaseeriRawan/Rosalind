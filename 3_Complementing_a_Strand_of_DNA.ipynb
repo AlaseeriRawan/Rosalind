{
  "nbformat": 4,
  "nbformat_minor": 0,
  "metadata": {
    "colab": {
      "provenance": [],
      "authorship_tag": "ABX9TyM2G5tQmua8bSLXmsG5sr8H",
      "include_colab_link": true
    },
    "kernelspec": {
      "name": "python3",
      "display_name": "Python 3"
    },
    "language_info": {
      "name": "python"
    }
  },
  "cells": [
    {
      "cell_type": "markdown",
      "metadata": {
        "id": "view-in-github",
        "colab_type": "text"
      },
      "source": [
        "<a href=\"https://colab.research.google.com/github/AlaseeriRawan/Rosalind/blob/main/3_Complementing_a_Strand_of_DNA.ipynb\" target=\"_parent\"><img src=\"https://colab.research.google.com/assets/colab-badge.svg\" alt=\"Open In Colab\"/></a>"
      ]
    },
    {
      "cell_type": "code",
      "execution_count": null,
      "metadata": {
        "id": "RO9VaWqUIU_f"
      },
      "outputs": [],
      "source": [
        "# dna = input'string'\n",
        "# reverse = reverse dna [::-1]\n",
        "# complement = reverse A-T reverse T-A reverse G-C reverse C-G\n",
        "# print complement"
      ]
    },
    {
      "cell_type": "code",
      "source": [
        "DNA = input(\"Enter DNA Sequence:\")\n",
        "print(DNA)\n",
        "reverse_seq = DNA[::-1]\n",
        "complement = \"\"\n",
        "for base in reverse_seq:\n",
        "  if base == 'A':\n",
        "    complement += 'T'\n",
        "  elif base == 'T':\n",
        "    complement += 'A'\n",
        "  elif base == 'C':\n",
        "    complement += 'G'\n",
        "  elif base == 'G':\n",
        "    complement += 'C'\n",
        "\n",
        "print(complement)"
      ],
      "metadata": {
        "colab": {
          "base_uri": "https://localhost:8080/"
        },
        "id": "9m6-6eY3I15y",
        "outputId": "57fb924e-547d-4737-ab95-1a2ae8687517"
      },
      "execution_count": null,
      "outputs": [
        {
          "output_type": "stream",
          "name": "stdout",
          "text": [
            "Enter DNA Sequence:GTCCAACATCGTATGGTTGTCAGTACCCATTTCTCCGTGTCTCTTATAGGTATATTATACTAAGAGAATGAAGTCTTGTTCCGTAAGTCCAGGGATCGTCTTCAGACGCTTCCTGTAACAACCGTATGGGCAGCAATAATGAAGGTCGTAATAGCAGAGTAAACCTGCAAACGGATCGTTCGTTATAAGACCTTGTGGCGGCCCCTTTTATTACGATCATGATGTGTGCAACTACGTACCTTGTTTATAGTCCCGGAAATCGGGATGGGTAGCCTGATGCCTACTCATATCGAATAGATCGTCTTTACGAACTTTGGTTGACTGTAGACATTAGATCACGTGATATGTAACTATGATTTCGTAGCCGGTTTGTTGATATTCTCGAGCAGTAATCGGGCTCGTCGGGTCCCTTCACGCCAGAACCGAGTGGCATTATGTCAGTGCCAGCTCTCACGGGTGTCTACTAAGCACAGCCAAAGGTCGGTATTACCGACTCTTCCCTCTACCGGTACGGGTCCATAACGGCTACGCCCTGGGTTCGTAAGAGGGTCAGTAGGCTATAACTCCGACCAAGGCCCGCCCGCTTATGTTCGCGTAGGGATTTCGAATATTGTGCAGTTCGTCGACTGCATTCTTGATACATCGAGATTCACTAGTCGTGACGAGAGAGAAAAGAACAGCACATATACGAGTTTATACTTGACAGAGCATCGTTCAACAATTTGCTTCAGTTGAACTTTTACCGACACATGACGAGATCGATATGTGAAGGACCCCAGCTATTATGACTAAGTGCAAGGCTGAGCCTGAAAGGATAGCACTCCTTTATTGCAAGAAGACGTCCTCCTTGCTCACCTCGTTGGGAAAAGCAGCACACATTC\n",
            "GTCCAACATCGTATGGTTGTCAGTACCCATTTCTCCGTGTCTCTTATAGGTATATTATACTAAGAGAATGAAGTCTTGTTCCGTAAGTCCAGGGATCGTCTTCAGACGCTTCCTGTAACAACCGTATGGGCAGCAATAATGAAGGTCGTAATAGCAGAGTAAACCTGCAAACGGATCGTTCGTTATAAGACCTTGTGGCGGCCCCTTTTATTACGATCATGATGTGTGCAACTACGTACCTTGTTTATAGTCCCGGAAATCGGGATGGGTAGCCTGATGCCTACTCATATCGAATAGATCGTCTTTACGAACTTTGGTTGACTGTAGACATTAGATCACGTGATATGTAACTATGATTTCGTAGCCGGTTTGTTGATATTCTCGAGCAGTAATCGGGCTCGTCGGGTCCCTTCACGCCAGAACCGAGTGGCATTATGTCAGTGCCAGCTCTCACGGGTGTCTACTAAGCACAGCCAAAGGTCGGTATTACCGACTCTTCCCTCTACCGGTACGGGTCCATAACGGCTACGCCCTGGGTTCGTAAGAGGGTCAGTAGGCTATAACTCCGACCAAGGCCCGCCCGCTTATGTTCGCGTAGGGATTTCGAATATTGTGCAGTTCGTCGACTGCATTCTTGATACATCGAGATTCACTAGTCGTGACGAGAGAGAAAAGAACAGCACATATACGAGTTTATACTTGACAGAGCATCGTTCAACAATTTGCTTCAGTTGAACTTTTACCGACACATGACGAGATCGATATGTGAAGGACCCCAGCTATTATGACTAAGTGCAAGGCTGAGCCTGAAAGGATAGCACTCCTTTATTGCAAGAAGACGTCCTCCTTGCTCACCTCGTTGGGAAAAGCAGCACACATTC\n",
            "GAATGTGTGCTGCTTTTCCCAACGAGGTGAGCAAGGAGGACGTCTTCTTGCAATAAAGGAGTGCTATCCTTTCAGGCTCAGCCTTGCACTTAGTCATAATAGCTGGGGTCCTTCACATATCGATCTCGTCATGTGTCGGTAAAAGTTCAACTGAAGCAAATTGTTGAACGATGCTCTGTCAAGTATAAACTCGTATATGTGCTGTTCTTTTCTCTCTCGTCACGACTAGTGAATCTCGATGTATCAAGAATGCAGTCGACGAACTGCACAATATTCGAAATCCCTACGCGAACATAAGCGGGCGGGCCTTGGTCGGAGTTATAGCCTACTGACCCTCTTACGAACCCAGGGCGTAGCCGTTATGGACCCGTACCGGTAGAGGGAAGAGTCGGTAATACCGACCTTTGGCTGTGCTTAGTAGACACCCGTGAGAGCTGGCACTGACATAATGCCACTCGGTTCTGGCGTGAAGGGACCCGACGAGCCCGATTACTGCTCGAGAATATCAACAAACCGGCTACGAAATCATAGTTACATATCACGTGATCTAATGTCTACAGTCAACCAAAGTTCGTAAAGACGATCTATTCGATATGAGTAGGCATCAGGCTACCCATCCCGATTTCCGGGACTATAAACAAGGTACGTAGTTGCACACATCATGATCGTAATAAAAGGGGCCGCCACAAGGTCTTATAACGAACGATCCGTTTGCAGGTTTACTCTGCTATTACGACCTTCATTATTGCTGCCCATACGGTTGTTACAGGAAGCGTCTGAAGACGATCCCTGGACTTACGGAACAAGACTTCATTCTCTTAGTATAATATACCTATAAGAGACACGGAGAAATGGGTACTGACAACCATACGATGTTGGAC\n"
          ]
        }
      ]
    },
    {
      "cell_type": "markdown",
      "source": [
        "### Other people's answers:"
      ],
      "metadata": {
        "id": "L3cQTD-sSfnD"
      }
    },
    {
      "cell_type": "code",
      "source": [
        "# using BASH\n",
        "!rev r.txt | tr ATCG TAGC"
      ],
      "metadata": {
        "colab": {
          "base_uri": "https://localhost:8080/"
        },
        "id": "QLdSzASIQz_6",
        "outputId": "583add8f-a757-4799-b0cf-3a7feba2818a"
      },
      "execution_count": null,
      "outputs": [
        {
          "output_type": "stream",
          "name": "stdout",
          "text": [
            "\rGAATGTGTGCTGCTTTTCCCAACGAGGTGAGCAAGGAGGACGTCTTCTTGCAATAAAGGAGTGCTATCCTTTCAGGCTCAGCCTTGCACTTAGTCATAATAGCTGGGGTCCTTCACATATCGATCTCGTCATGTGTCGGTAAAAGTTCAACTGAAGCAAATTGTTGAACGATGCTCTGTCAAGTATAAACTCGTATATGTGCTGTTCTTTTCTCTCTCGTCACGACTAGTGAATCTCGATGTATCAAGAATGCAGTCGACGAACTGCACAATATTCGAAATCCCTACGCGAACATAAGCGGGCGGGCCTTGGTCGGAGTTATAGCCTACTGACCCTCTTACGAACCCAGGGCGTAGCCGTTATGGACCCGTACCGGTAGAGGGAAGAGTCGGTAATACCGACCTTTGGCTGTGCTTAGTAGACACCCGTGAGAGCTGGCACTGACATAATGCCACTCGGTTCTGGCGTGAAGGGACCCGACGAGCCCGATTACTGCTCGAGAATATCAACAAACCGGCTACGAAATCATAGTTACATATCACGTGATCTAATGTCTACAGTCAACCAAAGTTCGTAAAGACGATCTATTCGATATGAGTAGGCATCAGGCTACCCATCCCGATTTCCGGGACTATAAACAAGGTACGTAGTTGCACACATCATGATCGTAATAAAAGGGGCCGCCACAAGGTCTTATAACGAACGATCCGTTTGCAGGTTTACTCTGCTATTACGACCTTCATTATTGCTGCCCATACGGTTGTTACAGGAAGCGTCTGAAGACGATCCCTGGACTTACGGAACAAGACTTCATTCTCTTAGTATAATATACCTATAAGAGACACGGAGAAATGGGTACTGACAACCATACGATGTTGGAC\n"
          ]
        }
      ]
    },
    {
      "cell_type": "markdown",
      "source": [
        "tr is a command-line utility in Unix and Unix-like operating systems used for translating or deleting characters. It operates on the standard input and writes the transformed data to the standard output.\n",
        "\n",
        "Syntax:\n",
        "\n",
        "\n",
        "tr [OPTION]... SET1 [SET2]\n",
        "Use code with caution\n",
        "Options:\n",
        "\n",
        "-c, --complement: Use the complement of SET1.\n",
        "-d, --delete: Delete characters in SET1 from the input.\n",
        "-s, --squeeze-repeats: Replace each sequence of a repeated character with a single occurrence of that character.\n",
        "-t, --truncate-set1: Stop translation at the first occurrence of a character not in SET1.\n",
        "Arguments:\n",
        "\n",
        "SET1: The first set of characters.\n",
        "SET2: The second set of characters. If SET2 is not specified, the characters in SET1 are translated to their corresponding ASCII codes.\n",
        "Examples:\n",
        "\n",
        "To translate all lowercase letters to uppercase letters:\n",
        "\n",
        "tr a-z A-Z\n",
        "Use code with caution\n",
        "To delete all vowels from a file:\n",
        "\n",
        "tr -d 'aeiou' < input.txt\n",
        "Use code with caution\n",
        "To squeeze repeated characters:\n",
        "\n",
        "tr -s 'hello'\n",
        "Use code with caution\n",
        "Output: helo\n",
        "\n",
        "To translate characters according to a mapping:\n",
        "\n",
        "tr 'abc' 'xyz'\n",
        "Use code with caution\n",
        "Output: xyz\n",
        "\n",
        "Note: The tr command is case-sensitive by default. To perform a case-insensitive translation, use the -i or --ignore-case option."
      ],
      "metadata": {
        "id": "fhZzlfojR2nR"
      }
    },
    {
      "cell_type": "code",
      "source": [
        "!pip install biopython"
      ],
      "metadata": {
        "id": "1t_ZQVFMShJR",
        "outputId": "852f9b79-c443-481b-8fea-c5d4af34384a",
        "colab": {
          "base_uri": "https://localhost:8080/"
        }
      },
      "execution_count": null,
      "outputs": [
        {
          "output_type": "stream",
          "name": "stdout",
          "text": [
            "Collecting biopython\n",
            "  Downloading biopython-1.83-cp310-cp310-manylinux_2_17_x86_64.manylinux2014_x86_64.whl (3.1 MB)\n",
            "\u001b[2K     \u001b[90m━━━━━━━━━━━━━━━━━━━━━━━━━━━━━━━━━━━━━━━━\u001b[0m \u001b[32m3.1/3.1 MB\u001b[0m \u001b[31m24.3 MB/s\u001b[0m eta \u001b[36m0:00:00\u001b[0m\n",
            "\u001b[?25hRequirement already satisfied: numpy in /usr/local/lib/python3.10/dist-packages (from biopython) (1.25.2)\n",
            "Installing collected packages: biopython\n",
            "Successfully installed biopython-1.83\n"
          ]
        }
      ]
    },
    {
      "cell_type": "code",
      "source": [
        "# biopython\n",
        "from Bio.Seq import Seq\n",
        "\n",
        "file = open(\"r.txt\", \"r\")\n",
        "s = file.read()\n",
        "seq = Seq(s)\n",
        "seq = seq.reverse_complement()\n",
        "print(seq)"
      ],
      "metadata": {
        "colab": {
          "base_uri": "https://localhost:8080/"
        },
        "id": "F1mmEcNnSNHB",
        "outputId": "29c344ab-4598-4558-8e64-93ff5fcfb5fe"
      },
      "execution_count": null,
      "outputs": [
        {
          "output_type": "stream",
          "name": "stdout",
          "text": [
            "\n",
            "GAATGTGTGCTGCTTTTCCCAACGAGGTGAGCAAGGAGGACGTCTTCTTGCAATAAAGGAGTGCTATCCTTTCAGGCTCAGCCTTGCACTTAGTCATAATAGCTGGGGTCCTTCACATATCGATCTCGTCATGTGTCGGTAAAAGTTCAACTGAAGCAAATTGTTGAACGATGCTCTGTCAAGTATAAACTCGTATATGTGCTGTTCTTTTCTCTCTCGTCACGACTAGTGAATCTCGATGTATCAAGAATGCAGTCGACGAACTGCACAATATTCGAAATCCCTACGCGAACATAAGCGGGCGGGCCTTGGTCGGAGTTATAGCCTACTGACCCTCTTACGAACCCAGGGCGTAGCCGTTATGGACCCGTACCGGTAGAGGGAAGAGTCGGTAATACCGACCTTTGGCTGTGCTTAGTAGACACCCGTGAGAGCTGGCACTGACATAATGCCACTCGGTTCTGGCGTGAAGGGACCCGACGAGCCCGATTACTGCTCGAGAATATCAACAAACCGGCTACGAAATCATAGTTACATATCACGTGATCTAATGTCTACAGTCAACCAAAGTTCGTAAAGACGATCTATTCGATATGAGTAGGCATCAGGCTACCCATCCCGATTTCCGGGACTATAAACAAGGTACGTAGTTGCACACATCATGATCGTAATAAAAGGGGCCGCCACAAGGTCTTATAACGAACGATCCGTTTGCAGGTTTACTCTGCTATTACGACCTTCATTATTGCTGCCCATACGGTTGTTACAGGAAGCGTCTGAAGACGATCCCTGGACTTACGGAACAAGACTTCATTCTCTTAGTATAATATACCTATAAGAGACACGGAGAAATGGGTACTGACAACCATACGATGTTGGAC\n"
          ]
        }
      ]
    }
  ]
}