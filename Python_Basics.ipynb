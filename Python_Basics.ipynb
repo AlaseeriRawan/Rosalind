{
  "nbformat": 4,
  "nbformat_minor": 0,
  "metadata": {
    "colab": {
      "provenance": [],
      "authorship_tag": "ABX9TyMfeziyEYRai8vJL4berUg5",
      "include_colab_link": true
    },
    "kernelspec": {
      "name": "python3",
      "display_name": "Python 3"
    },
    "language_info": {
      "name": "python"
    }
  },
  "cells": [
    {
      "cell_type": "markdown",
      "metadata": {
        "id": "view-in-github",
        "colab_type": "text"
      },
      "source": [
        "<a href=\"https://colab.research.google.com/github/AlaseeriRawan/Rosalind/blob/main/Python_Basics.ipynb\" target=\"_parent\"><img src=\"https://colab.research.google.com/assets/colab-badge.svg\" alt=\"Open In Colab\"/></a>"
      ]
    },
    {
      "cell_type": "markdown",
      "source": [
        "1. Installing Python"
      ],
      "metadata": {
        "id": "pePhhc6DuqFH"
      }
    },
    {
      "cell_type": "markdown",
      "source": [
        "2. Variables and Some Arithmetic\n",
        "\n",
        "Given: Two positive integers a and b, each less than 1000.\n",
        "\n",
        "Return: The integer corresponding to the square of the hypotenuse of the right triangle whose legs have lengths a and b."
      ],
      "metadata": {
        "id": "tOoY54I1uzz-"
      }
    },
    {
      "cell_type": "code",
      "source": [
        "a = 838\n",
        "b = 909\n",
        "# c^2 = b^2 + a^2\n",
        "c2 = b**2 + a**2\n",
        "print(c2)"
      ],
      "metadata": {
        "colab": {
          "base_uri": "https://localhost:8080/"
        },
        "id": "rt09QhELuzct",
        "outputId": "5928b508-852b-4fec-ebfa-b57fa6a39db3"
      },
      "execution_count": null,
      "outputs": [
        {
          "output_type": "stream",
          "name": "stdout",
          "text": [
            "1528525\n"
          ]
        }
      ]
    },
    {
      "cell_type": "markdown",
      "source": [
        "3. Strings and Lists\n",
        "\n",
        "Given: A string s of length at most 200 letters and four integers a, b, c and d.\n",
        "\n",
        "Return: The slice of this string from indices a through b and c through d (with space in between), inclusively. In other words, we should include elements s[b] and s[d] in our slice."
      ],
      "metadata": {
        "id": "7GrzbG0NxHle"
      }
    },
    {
      "cell_type": "code",
      "execution_count": null,
      "metadata": {
        "colab": {
          "base_uri": "https://localhost:8080/"
        },
        "id": "oxBVIJ3UuiCg",
        "outputId": "4c0419d4-7c5d-41f6-e3b1-a0027f333e79"
      },
      "outputs": [
        {
          "output_type": "stream",
          "name": "stdout",
          "text": [
            "sibiricus cyanus\n"
          ]
        }
      ],
      "source": [
        "text = 'C53Oe3FTJXPe6PXUYly3JuLb5AxIn7fwbzP3dlnUMgf0qRfZej2nsibiricuslATdsgBbpbGzotwk3PRkR66aoUEVQVpuaF1oRsx3ALPat1HOQ3ic7turnjY2r6h6CPyEnbq8sat4ZGb0EkIllmTbFcyanuspOkVx6t0agQJqaItpmKd..'\n",
        "# slice 52 60 150 155\n",
        "\n",
        "slice1 = text[52:61]\n",
        "slice2 = text[150:156]\n",
        "\n",
        "print(slice1, slice2)\n"
      ]
    },
    {
      "cell_type": "markdown",
      "source": [
        "4. Conditions and Loops\n",
        "\n",
        "Given: Two positive integers a and b (a<b<10000).\n",
        "\n",
        "Return: The sum of all odd integers from a through b, inclusively"
      ],
      "metadata": {
        "id": "PO6Kj-U00ErY"
      }
    },
    {
      "cell_type": "code",
      "source": [
        "# 4322 8553\n",
        "\n",
        "a = 4322\n",
        "b = 8553\n",
        "sum = 0\n",
        "\n",
        "while a <= b:\n",
        "  if a % 2 == 1:\n",
        "    sum += a\n",
        "  a += 1\n",
        "print(sum)"
      ],
      "metadata": {
        "colab": {
          "base_uri": "https://localhost:8080/"
        },
        "id": "4pmTwly-0EZ0",
        "outputId": "c13c2359-1da0-48d3-b937-80f5ba3837a1"
      },
      "execution_count": null,
      "outputs": [
        {
          "output_type": "stream",
          "name": "stdout",
          "text": [
            "13622808\n"
          ]
        }
      ]
    },
    {
      "cell_type": "markdown",
      "source": [
        "5. Working with Files\n",
        "\n",
        "Given: A file containing at most 1000 lines.\n",
        "\n",
        "Return: A file containing all the even-numbered lines from the original file. Assume 1-based numbering of lines."
      ],
      "metadata": {
        "id": "12lhcXF19e5h"
      }
    },
    {
      "cell_type": "code",
      "source": [
        "'''\n",
        "Bravely bold Sir Robin rode forth from Camelot\n",
        "Yes, brave Sir Robin turned about\n",
        "He was not afraid to die, O brave Sir Robin\n",
        "And gallantly he chickened out\n",
        "He was not at all afraid to be killed in nasty ways\n",
        "Bravely talking to his feet\n",
        "Brave, brave, brave, brave Sir Robin\n",
        "He beat a very brave retreat\n",
        "'''\n",
        "\n",
        "f = open('/content/rosalind_ini5.txt', 'r')\n",
        "for i, line in enumerate(f):\n",
        "  if i % 2 == 1:\n",
        "    print(line.strip())\n",
        "f.close()"
      ],
      "metadata": {
        "colab": {
          "base_uri": "https://localhost:8080/"
        },
        "id": "pOEChGhI_oHu",
        "outputId": "a170ca70-f787-4cb5-99e0-24110cb365b7"
      },
      "execution_count": null,
      "outputs": [
        {
          "output_type": "stream",
          "name": "stdout",
          "text": [
            "Some things in life are bad, they can really make you mad\n",
            "Other things just make you swear and curse\n",
            "When you're chewing on life's gristle, don't grumble give a whistle\n",
            "This will help things turn out for the best\n",
            "Always look on the bright side of life\n",
            "Always look on the right side of life\n",
            "If life seems jolly rotten, there's something you've forgotten\n",
            "And that's to laugh and smile and dance and sing\n",
            "When you're feeling in the dumps, don't be silly, chumps\n",
            "Just purse your lips and whistle, that's the thing\n",
            "So, always look on the bright side of death\n",
            "Just before you draw your terminal breath\n",
            "Life's a counterfeit and when you look at it\n",
            "Life's a laugh and death's the joke, it's true\n",
            "You see, it's all a show, keep them laughing as you go\n",
            "Just remember the last laugh is on you\n",
            "Always look on the bright side of life\n",
            "And always look on the right side of life\n",
            "Always look on the bright side of life\n",
            "And always look on the right side of life\n"
          ]
        }
      ]
    },
    {
      "cell_type": "markdown",
      "source": [
        "6. Dictionaries\n",
        "\n",
        "Given: A string s\n",
        " of length at most 10000 letters\n",
        "\n",
        "Return: The number of occurrences of each word in s\n",
        ", where words are separated by spaces. Words are case-sensitive, and the lines in the output can be in any order.\n"
      ],
      "metadata": {
        "id": "WdlwxywnD2v0"
      }
    },
    {
      "cell_type": "code",
      "source": [
        "s = 'When I find myself in times of trouble Mother Mary comes to me Speaking words of wisdom let it be And in my hour of darkness she is standing right in front of me Speaking words of wisdom let it be Let it be let it be let it be let it be Whisper words of wisdom let it be And when the broken hearted people living in the world agree There will be an answer let it be For though they may be parted there is still a chance that they will see There will be an answer let it be Let it be let it be let it be let it be There will be an answer let it be Let it be let it be let it be let it be Whisper words of wisdom let it be Let it be let it be let it be let it be Whisper words of wisdom let it be And when the night is cloudy there is still a light that shines on me Shine until tomorrow let it be I wake up to the sound of music Mother Mary comes to me Speaking words of wisdom let it be Let it be let it be let it be yeah let it be There will be an answer let it be Let it be let it be let it be yeah let it be Whisper words of wisdom let it be'\n",
        "\n",
        "dic = {}\n",
        "for word in str.split(s):\n",
        "  if word not in dic:\n",
        "    dic[word] = 1\n",
        "  else:\n",
        "    dic[word] += 1\n",
        "\n",
        "for key, value in dic.items():\n",
        "    print(key, value)"
      ],
      "metadata": {
        "colab": {
          "base_uri": "https://localhost:8080/"
        },
        "id": "gG21i0RoD2c3",
        "outputId": "4a06433c-3356-4b66-e0a4-8933f0aa853a"
      },
      "execution_count": null,
      "outputs": [
        {
          "output_type": "stream",
          "name": "stdout",
          "text": [
            "When 1\n",
            "I 2\n",
            "find 1\n",
            "myself 1\n",
            "in 4\n",
            "times 1\n",
            "of 11\n",
            "trouble 1\n",
            "Mother 2\n",
            "Mary 2\n",
            "comes 2\n",
            "to 3\n",
            "me 4\n",
            "Speaking 3\n",
            "words 7\n",
            "wisdom 7\n",
            "let 30\n",
            "it 36\n",
            "be 41\n",
            "And 3\n",
            "my 1\n",
            "hour 1\n",
            "darkness 1\n",
            "she 1\n",
            "is 4\n",
            "standing 1\n",
            "right 1\n",
            "front 1\n",
            "Let 6\n",
            "Whisper 4\n",
            "when 2\n",
            "the 4\n",
            "broken 1\n",
            "hearted 1\n",
            "people 1\n",
            "living 1\n",
            "world 1\n",
            "agree 1\n",
            "There 4\n",
            "will 5\n",
            "an 4\n",
            "answer 4\n",
            "For 1\n",
            "though 1\n",
            "they 2\n",
            "may 1\n",
            "parted 1\n",
            "there 2\n",
            "still 2\n",
            "a 2\n",
            "chance 1\n",
            "that 2\n",
            "see 1\n",
            "night 1\n",
            "cloudy 1\n",
            "light 1\n",
            "shines 1\n",
            "on 1\n",
            "Shine 1\n",
            "until 1\n",
            "tomorrow 1\n",
            "wake 1\n",
            "up 1\n",
            "sound 1\n",
            "music 1\n",
            "yeah 2\n"
          ]
        }
      ]
    }
  ]
}