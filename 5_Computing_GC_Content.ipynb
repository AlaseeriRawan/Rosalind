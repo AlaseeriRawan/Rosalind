{
  "nbformat": 4,
  "nbformat_minor": 0,
  "metadata": {
    "colab": {
      "provenance": [],
      "authorship_tag": "ABX9TyNerb4iMvxd2OBUWdY53s+9",
      "include_colab_link": true
    },
    "kernelspec": {
      "name": "python3",
      "display_name": "Python 3"
    },
    "language_info": {
      "name": "python"
    }
  },
  "cells": [
    {
      "cell_type": "markdown",
      "metadata": {
        "id": "view-in-github",
        "colab_type": "text"
      },
      "source": [
        "<a href=\"https://colab.research.google.com/github/AlaseeriRawan/Rosalind/blob/main/5_Computing_GC_Content.ipynb\" target=\"_parent\"><img src=\"https://colab.research.google.com/assets/colab-badge.svg\" alt=\"Open In Colab\"/></a>"
      ]
    },
    {
      "cell_type": "markdown",
      "source": [
        "The GC-content of a DNA string is given by the percentage of symbols in the string that are 'C' or 'G'. For example, the GC-content of \"AGCTATAG\" is 37.5%. Note that the reverse complement of any DNA string has the same GC-content.\n",
        "\n",
        "DNA strings must be labeled when they are consolidated into a database. A commonly used method of string labeling is called FASTA format. In this format, the string is introduced by a line that begins with '>', followed by some labeling information. Subsequent lines contain the string itself; the first line to begin with '>' indicates the label of the next string.\n",
        "\n",
        "In Rosalind's implementation, a string in FASTA format will be labeled by the ID \"Rosalind_xxxx\", where \"xxxx\" denotes a four-digit code between 0000 and 9999.\n",
        "\n",
        "Given: At most 10 DNA strings in FASTA format (of length at most 1 kbp each).\n",
        "\n",
        "Return: The ID of the string having the highest GC-content, followed by the GC-content of that string. Rosalind allows for a default error of 0.001 in all decimal answers unless otherwise stated; please see the note on absolute error below."
      ],
      "metadata": {
        "id": "IJzRjEbD0okD"
      }
    },
    {
      "cell_type": "code",
      "execution_count": null,
      "metadata": {
        "id": "cQdtknrmx7s3"
      },
      "outputs": [],
      "source": [
        "# pesudocode\n",
        "# gc content is calculated as (no of G+ no of C/total number of bases)/100 = X.123456 ie 6 points\n",
        "\n",
        "# for fasta.txt,\n",
        "#     if line starts with '>':\n",
        "#       print(line)\n",
        "#     else:\n",
        "#        count (no of G+ no of C/total number of bases)/100\n",
        "#        return gc content with 6 decimals"
      ]
    },
    {
      "cell_type": "code",
      "source": [
        "# fasta = open(\"fasta.txt\", \"r\")\n",
        "# with fasta as file:\n",
        "#   for line in file:\n",
        "#       if line.startswith(\">\"):\n",
        "#            print(line)\n",
        "#        else:\n",
        "#            C_count = line.count(\"C\")\n",
        "#            G_count = line.count(\"G\")\n",
        "#            total = len(line)\n",
        "#            GC = ((C_count + G_count)/total)*100\n",
        "#            GC6 = round(GC, 6)\n",
        "#            print(GC6)\n",
        "#"
      ],
      "metadata": {
        "id": "a4cSVSnL2kUD"
      },
      "execution_count": null,
      "outputs": []
    },
    {
      "cell_type": "code",
      "source": [
        "with open('z8.txt', 'r') as file, open('ANSSS.txt', 'w') as outfile:\n",
        "    for line in file:\n",
        "        if line.startswith(\">\"):\n",
        "          line_replace = line.replace(\">\", \"\\n>\")\n",
        "          outfile.write(line_replace)\n",
        "        else:\n",
        "            outfile.write(line.strip())"
      ],
      "metadata": {
        "id": "SNHb9fz7Q8o7"
      },
      "execution_count": null,
      "outputs": []
    },
    {
      "cell_type": "code",
      "source": [
        "fasta = open(\"ANSSS.txt\", \"r\")\n",
        "with fasta as file:\n",
        "  for line in file:\n",
        "    if line.startswith(\">\"):\n",
        "      print(line)\n",
        "    else:\n",
        "      C_count = line.count(\"C\")\n",
        "      G_count = line.count(\"G\")\n",
        "      total = len(line)\n",
        "      GC = ((C_count + G_count)/total)*100\n",
        "      print(GC)"
      ],
      "metadata": {
        "colab": {
          "base_uri": "https://localhost:8080/"
        },
        "id": "4ax9ZFKh7jlk",
        "outputId": "6b47eb8e-0bb5-4224-e2a8-1a3c925c5ca0"
      },
      "execution_count": null,
      "outputs": [
        {
          "output_type": "stream",
          "name": "stdout",
          "text": [
            "0.0\n",
            ">Rosalind_4535\n",
            "\n",
            "51.23456790123457\n",
            ">Rosalind_9510\n",
            "\n",
            "50.69817400644469\n",
            ">Rosalind_7440\n",
            "\n",
            "47.5\n",
            ">Rosalind_7114\n",
            "\n",
            "51.318681318681314\n",
            ">Rosalind_5704\n",
            "\n",
            "48.9432703003337\n",
            ">Rosalind_0107\n",
            "\n",
            "49.59349593495935\n",
            ">Rosalind_7424\n",
            "\n",
            "50.95693779904307\n",
            ">Rosalind_0082\n",
            "\n",
            "51.616499442586395\n"
          ]
        }
      ]
    },
    {
      "cell_type": "code",
      "source": [],
      "metadata": {
        "id": "8IchPE4aO_Cb"
      },
      "execution_count": null,
      "outputs": []
    }
  ]
}